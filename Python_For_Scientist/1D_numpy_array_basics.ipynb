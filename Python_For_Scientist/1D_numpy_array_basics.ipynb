{
 "cells": [
  {
   "cell_type": "markdown",
   "metadata": {},
   "source": [
    "the first step is to import the numpy package <br>\n",
    "we then change the package name from numpy to np"
   ]
  },
  {
   "cell_type": "code",
   "execution_count": 1,
   "metadata": {},
   "outputs": [],
   "source": [
    "import numpy as np"
   ]
  },
  {
   "cell_type": "markdown",
   "metadata": {},
   "source": [
    "now, we create a numpy array from a list"
   ]
  },
  {
   "cell_type": "code",
   "execution_count": 2,
   "metadata": {},
   "outputs": [
    {
     "name": "stdout",
     "output_type": "stream",
     "text": [
      "[0, 1, 2, 3, 4, 5, 6, 7, 8, 9]\n"
     ]
    }
   ],
   "source": [
    "A_list = [0, 1, 2, 3, 4, 5, 6, 7, 8, 9]\n",
    "print(A_list)"
   ]
  },
  {
   "cell_type": "code",
   "execution_count": 3,
   "metadata": {
    "scrolled": true
   },
   "outputs": [
    {
     "name": "stdout",
     "output_type": "stream",
     "text": [
      "[0 1 2 3 4 5 6 7 8 9]\n"
     ]
    }
   ],
   "source": [
    "A = np.array(A_list, dtype='int32')\n",
    "print(A)"
   ]
  },
  {
   "cell_type": "markdown",
   "metadata": {},
   "source": [
    "We can directly use a list as the first argument to the function np.array "
   ]
  },
  {
   "cell_type": "code",
   "execution_count": 8,
   "metadata": {},
   "outputs": [
    {
     "name": "stdout",
     "output_type": "stream",
     "text": [
      "[0 1 2 3 4 5 6 7 8 9]\n"
     ]
    }
   ],
   "source": [
    "A = np.array([0, 1, 2, 3, 4, 5, 6, 7, 8, 9], dtype='int32')\n",
    "print(A)"
   ]
  },
  {
   "cell_type": "code",
   "execution_count": 9,
   "metadata": {
    "scrolled": true
   },
   "outputs": [
    {
     "data": {
      "text/plain": [
       "array([0, 1, 2, 3, 4, 5, 6, 7, 8, 9], dtype=int32)"
      ]
     },
     "execution_count": 9,
     "metadata": {},
     "output_type": "execute_result"
    }
   ],
   "source": [
    "A"
   ]
  },
  {
   "cell_type": "markdown",
   "metadata": {},
   "source": [
    "a numpy array is an object, so it has a type and an id"
   ]
  },
  {
   "cell_type": "code",
   "execution_count": 10,
   "metadata": {},
   "outputs": [
    {
     "data": {
      "text/plain": [
       "numpy.ndarray"
      ]
     },
     "execution_count": 10,
     "metadata": {},
     "output_type": "execute_result"
    }
   ],
   "source": [
    "type(A)"
   ]
  },
  {
   "cell_type": "code",
   "execution_count": 11,
   "metadata": {},
   "outputs": [
    {
     "data": {
      "text/plain": [
       "4529518832"
      ]
     },
     "execution_count": 11,
     "metadata": {},
     "output_type": "execute_result"
    }
   ],
   "source": [
    "id(A)"
   ]
  },
  {
   "cell_type": "markdown",
   "metadata": {},
   "source": [
    "obtain the length of the array using the function len"
   ]
  },
  {
   "cell_type": "code",
   "execution_count": 12,
   "metadata": {},
   "outputs": [
    {
     "data": {
      "text/plain": [
       "10"
      ]
     },
     "execution_count": 12,
     "metadata": {},
     "output_type": "execute_result"
    }
   ],
   "source": [
    "len(A)"
   ]
  },
  {
   "cell_type": "markdown",
   "metadata": {},
   "source": [
    "obtain the length of the array using ArrayName.shape which is a data attribute of the array"
   ]
  },
  {
   "cell_type": "code",
   "execution_count": 13,
   "metadata": {},
   "outputs": [
    {
     "data": {
      "text/plain": [
       "(10,)"
      ]
     },
     "execution_count": 13,
     "metadata": {},
     "output_type": "execute_result"
    }
   ],
   "source": [
    "A.shape"
   ]
  },
  {
   "cell_type": "code",
   "execution_count": 11,
   "metadata": {},
   "outputs": [
    {
     "data": {
      "text/plain": [
       "tuple"
      ]
     },
     "execution_count": 11,
     "metadata": {},
     "output_type": "execute_result"
    }
   ],
   "source": [
    "type(A.shape)  # it is a tuple with one element"
   ]
  },
  {
   "cell_type": "code",
   "execution_count": 14,
   "metadata": {},
   "outputs": [
    {
     "name": "stdout",
     "output_type": "stream",
     "text": [
      "10\n"
     ]
    }
   ],
   "source": [
    "LenA = A.shape[0] # get the first/only element in the tuple\n",
    "print(LenA)"
   ]
  },
  {
   "cell_type": "markdown",
   "metadata": {},
   "source": [
    "A is array([0, 1, 2, 3, 4, 5, 6, 7, 8, 9]) <br>\n",
    "get an element of an array using ArrayName[index] <br>\n",
    "index >=0, index < len(ArrayName)"
   ]
  },
  {
   "cell_type": "code",
   "execution_count": 15,
   "metadata": {},
   "outputs": [
    {
     "data": {
      "text/plain": [
       "0"
      ]
     },
     "execution_count": 15,
     "metadata": {},
     "output_type": "execute_result"
    }
   ],
   "source": [
    "A[0] # the first element"
   ]
  },
  {
   "cell_type": "code",
   "execution_count": 13,
   "metadata": {
    "scrolled": true
   },
   "outputs": [
    {
     "data": {
      "text/plain": [
       "1"
      ]
     },
     "execution_count": 13,
     "metadata": {},
     "output_type": "execute_result"
    }
   ],
   "source": [
    "A[1] # the second element"
   ]
  },
  {
   "cell_type": "code",
   "execution_count": 16,
   "metadata": {},
   "outputs": [
    {
     "data": {
      "text/plain": [
       "9"
      ]
     },
     "execution_count": 16,
     "metadata": {},
     "output_type": "execute_result"
    }
   ],
   "source": [
    "A[LenA-1] # the last element"
   ]
  },
  {
   "cell_type": "markdown",
   "metadata": {},
   "source": [
    "A is array([0, 1, 2, 3, 4, 5, 6, 7, 8, 9]) <br>\n",
    "get a sub-array using the notation ArrayName[start: end], <br>\n",
    "where start >= 0, end >= 0, end > start "
   ]
  },
  {
   "cell_type": "code",
   "execution_count": 17,
   "metadata": {},
   "outputs": [
    {
     "data": {
      "text/plain": [
       "array([0, 1, 2], dtype=int32)"
      ]
     },
     "execution_count": 17,
     "metadata": {},
     "output_type": "execute_result"
    }
   ],
   "source": [
    "A[0:3] # start from A[0], then A[1], A[2], up to but not inluding A[3]"
   ]
  },
  {
   "cell_type": "code",
   "execution_count": 16,
   "metadata": {},
   "outputs": [
    {
     "data": {
      "text/plain": [
       "array([1, 2, 3, 4, 5, 6, 7, 8, 9])"
      ]
     },
     "execution_count": 16,
     "metadata": {},
     "output_type": "execute_result"
    }
   ],
   "source": [
    "A[1:LenA] # get elements from A[1] to A[LenA-1]"
   ]
  },
  {
   "cell_type": "code",
   "execution_count": 17,
   "metadata": {},
   "outputs": [
    {
     "data": {
      "text/plain": [
       "array([1, 2, 3, 4, 5, 6, 7, 8, 9])"
      ]
     },
     "execution_count": 17,
     "metadata": {},
     "output_type": "execute_result"
    }
   ],
   "source": [
    "A[1:] # omit end, we get elements from A[1] to A[LenA-1]"
   ]
  },
  {
   "cell_type": "code",
   "execution_count": 18,
   "metadata": {},
   "outputs": [
    {
     "data": {
      "text/plain": [
       "array([], dtype=int32)"
      ]
     },
     "execution_count": 18,
     "metadata": {},
     "output_type": "execute_result"
    }
   ],
   "source": [
    "A[0:0] # start == end"
   ]
  },
  {
   "cell_type": "code",
   "execution_count": 19,
   "metadata": {},
   "outputs": [
    {
     "data": {
      "text/plain": [
       "array([], dtype=int32)"
      ]
     },
     "execution_count": 19,
     "metadata": {},
     "output_type": "execute_result"
    }
   ],
   "source": [
    "A[3:0] # start < end"
   ]
  },
  {
   "cell_type": "markdown",
   "metadata": {},
   "source": [
    "A is array([0, 1, 2, 3, 4, 5, 6, 7, 8, 9]) <br>\n",
    "get a sub-array using the notation ArrayName[start: end: step], <br>\n",
    "where start >= 0, end >= 0, end > start and step > 0 "
   ]
  },
  {
   "cell_type": "code",
   "execution_count": 22,
   "metadata": {},
   "outputs": [
    {
     "ename": "ValueError",
     "evalue": "slice step cannot be zero",
     "output_type": "error",
     "traceback": [
      "\u001b[1;31m---------------------------------------------------------------------------\u001b[0m",
      "\u001b[1;31mValueError\u001b[0m                                Traceback (most recent call last)",
      "\u001b[1;32m<ipython-input-22-55f98967e263>\u001b[0m in \u001b[0;36m<module>\u001b[1;34m()\u001b[0m\n\u001b[1;32m----> 1\u001b[1;33m \u001b[0mA\u001b[0m\u001b[1;33m[\u001b[0m\u001b[1;36m0\u001b[0m\u001b[1;33m:\u001b[0m\u001b[1;36m3\u001b[0m\u001b[1;33m:\u001b[0m\u001b[1;36m0\u001b[0m\u001b[1;33m]\u001b[0m \u001b[1;31m# error, step is 0\u001b[0m\u001b[1;33m\u001b[0m\u001b[0m\n\u001b[0m",
      "\u001b[1;31mValueError\u001b[0m: slice step cannot be zero"
     ]
    }
   ],
   "source": [
    "A[0:3:0] # error, step is 0"
   ]
  },
  {
   "cell_type": "code",
   "execution_count": 23,
   "metadata": {},
   "outputs": [
    {
     "data": {
      "text/plain": [
       "array([0, 1, 2])"
      ]
     },
     "execution_count": 23,
     "metadata": {},
     "output_type": "execute_result"
    }
   ],
   "source": [
    "A[0:3:1] # step is 1, this is the same as A[0:3]"
   ]
  },
  {
   "cell_type": "code",
   "execution_count": 24,
   "metadata": {},
   "outputs": [
    {
     "data": {
      "text/plain": [
       "array([0, 2])"
      ]
     },
     "execution_count": 24,
     "metadata": {},
     "output_type": "execute_result"
    }
   ],
   "source": [
    "A[0:3:2] # step is 2, A[0], A[2], A[4](not included, 4 > 3 in 0:3:2)"
   ]
  },
  {
   "cell_type": "code",
   "execution_count": 25,
   "metadata": {},
   "outputs": [
    {
     "data": {
      "text/plain": [
       "array([0])"
      ]
     },
     "execution_count": 25,
     "metadata": {},
     "output_type": "execute_result"
    }
   ],
   "source": [
    "A[0:3:10] # step is 10, A[0], A[10](not exist)"
   ]
  },
  {
   "cell_type": "markdown",
   "metadata": {},
   "source": [
    "A is array([0, 1, 2, 3, 4, 5, 6, 7, 8, 9]) <br>\n",
    "get a sub-array using the notation ArrayName[start: end: step], <br>\n",
    "where start >= 0, end >= 0, start > end and step < 0 "
   ]
  },
  {
   "cell_type": "code",
   "execution_count": 26,
   "metadata": {},
   "outputs": [
    {
     "data": {
      "text/plain": [
       "array([3, 2, 1])"
      ]
     },
     "execution_count": 26,
     "metadata": {},
     "output_type": "execute_result"
    }
   ],
   "source": [
    "A[3:0:-1] # start is 3, end is 0, step is -1"
   ]
  },
  {
   "cell_type": "markdown",
   "metadata": {},
   "source": [
    "A is array([0, 1, 2, 3, 4, 5, 6, 7, 8, 9]) <br>\n",
    "Now, we will use negative indexes ... <br>"
   ]
  },
  {
   "cell_type": "code",
   "execution_count": 18,
   "metadata": {},
   "outputs": [
    {
     "data": {
      "text/plain": [
       "9"
      ]
     },
     "execution_count": 18,
     "metadata": {},
     "output_type": "execute_result"
    }
   ],
   "source": [
    "A[-1] # the last element, A[LenA-1] => A[(LenA-1)-LenA]"
   ]
  },
  {
   "cell_type": "code",
   "execution_count": 28,
   "metadata": {},
   "outputs": [
    {
     "data": {
      "text/plain": [
       "1"
      ]
     },
     "execution_count": 28,
     "metadata": {},
     "output_type": "execute_result"
    }
   ],
   "source": [
    "A[-9] # A[1] => A[1-LenA]"
   ]
  },
  {
   "cell_type": "code",
   "execution_count": 19,
   "metadata": {},
   "outputs": [
    {
     "data": {
      "text/plain": [
       "0"
      ]
     },
     "execution_count": 19,
     "metadata": {},
     "output_type": "execute_result"
    }
   ],
   "source": [
    "A[-LenA] # A[0] => A[0-LenA]"
   ]
  },
  {
   "cell_type": "markdown",
   "metadata": {},
   "source": [
    "get a sub-array using the notation ArrayName[start: end], <br>\n",
    "where start < 0, end < 0, end > start "
   ]
  },
  {
   "cell_type": "code",
   "execution_count": 6,
   "metadata": {},
   "outputs": [
    {
     "data": {
      "text/plain": [
       "array([1, 2, 3, 4, 5, 6, 7, 8], dtype=int32)"
      ]
     },
     "execution_count": 6,
     "metadata": {},
     "output_type": "execute_result"
    }
   ],
   "source": [
    "A[-9:-1] # get elements: A[-9],A[-8],A[-7],A[-6],\n",
    "         #               A[-5],A[-4],A[-3],A[-2]\n",
    "         # up to but not including A[-1]"
   ]
  },
  {
   "cell_type": "code",
   "execution_count": 7,
   "metadata": {},
   "outputs": [
    {
     "data": {
      "text/plain": [
       "array([1, 2, 3, 4, 5, 6, 7, 8, 9], dtype=int32)"
      ]
     },
     "execution_count": 7,
     "metadata": {},
     "output_type": "execute_result"
    }
   ],
   "source": [
    "A[-9:] # omit end, now the last element is included in the sub-array "
   ]
  },
  {
   "cell_type": "code",
   "execution_count": 32,
   "metadata": {},
   "outputs": [
    {
     "data": {
      "text/plain": [
       "array([1, 2, 3, 4, 5, 6, 7, 8, 9])"
      ]
     },
     "execution_count": 32,
     "metadata": {},
     "output_type": "execute_result"
    }
   ],
   "source": [
    "A[1:]"
   ]
  },
  {
   "cell_type": "markdown",
   "metadata": {},
   "source": [
    "get a sub-array using the notation ArrayName[start: end: step], <br>\n",
    "where start < 0, end < 0, end > start and step > 0 "
   ]
  },
  {
   "cell_type": "code",
   "execution_count": 20,
   "metadata": {},
   "outputs": [
    {
     "data": {
      "text/plain": [
       "array([1, 4, 7], dtype=int32)"
      ]
     },
     "execution_count": 20,
     "metadata": {},
     "output_type": "execute_result"
    }
   ],
   "source": [
    "A[-9:-1:3] # start is -9, end is -1, step is 3\n",
    "           # A[-9], A[-6], A[-3], A[0](not included) "
   ]
  },
  {
   "cell_type": "markdown",
   "metadata": {},
   "source": [
    "get a sub-array using the notation ArrayName[start: end: step], <br>\n",
    "where start < 0, end < 0, end < start and step < 0 "
   ]
  },
  {
   "cell_type": "code",
   "execution_count": 21,
   "metadata": {},
   "outputs": [
    {
     "data": {
      "text/plain": [
       "array([9, 6, 3], dtype=int32)"
      ]
     },
     "execution_count": 21,
     "metadata": {},
     "output_type": "execute_result"
    }
   ],
   "source": [
    "A[-1:-9:-3]# start is -1, end is -9, step is -3\n",
    "           # A[-1], A[-4], A[-7], A[-10](not exist)"
   ]
  },
  {
   "cell_type": "markdown",
   "metadata": {},
   "source": [
    "create an array with a predifined length <br>\n",
    "initialize it with zeros or ones"
   ]
  },
  {
   "cell_type": "code",
   "execution_count": 22,
   "metadata": {
    "scrolled": true
   },
   "outputs": [
    {
     "name": "stdout",
     "output_type": "stream",
     "text": [
      "[0. 0. 0. 0. 0. 0. 0. 0. 0. 0.]\n"
     ]
    }
   ],
   "source": [
    "A0 = np.zeros(10, dtype='float32')\n",
    "print(A0)"
   ]
  },
  {
   "cell_type": "code",
   "execution_count": 23,
   "metadata": {},
   "outputs": [
    {
     "name": "stdout",
     "output_type": "stream",
     "text": [
      "[1. 1. 1. 1. 1. 1. 1. 1. 1. 1.]\n"
     ]
    }
   ],
   "source": [
    "A1 = np.ones(10, dtype='float32')\n",
    "print(A1)"
   ]
  },
  {
   "cell_type": "markdown",
   "metadata": {},
   "source": [
    "create an array with a predifined length <br>\n",
    "we do not care about the initial values of the elements"
   ]
  },
  {
   "cell_type": "code",
   "execution_count": 24,
   "metadata": {},
   "outputs": [
    {
     "name": "stdout",
     "output_type": "stream",
     "text": [
      "[1.5e-322 0.0e+000 0.0e+000 0.0e+000 0.0e+000 0.0e+000 0.0e+000 0.0e+000\n",
      " 0.0e+000 0.0e+000]\n"
     ]
    }
   ],
   "source": [
    "A2 = np.empty(10)\n",
    "print(A2)"
   ]
  },
  {
   "cell_type": "markdown",
   "metadata": {},
   "source": [
    "create an array with a predifined length <br>\n",
    "initialize it with random numbers that follow a probability distribution<br>\n",
    "use the functions in the module 'random' to generate random numbers <br>\n",
    "rand: uniform distribution in 0~1 <br>\n",
    "randn: normal distribution mean=0, std=1 <br>\n",
    "(many functions in the module)"
   ]
  },
  {
   "cell_type": "code",
   "execution_count": 25,
   "metadata": {
    "scrolled": true
   },
   "outputs": [
    {
     "name": "stdout",
     "output_type": "stream",
     "text": [
      "[0.8713185  0.25448484 0.53343173 0.06741099 0.07074759 0.76968668\n",
      " 0.86880244 0.24085773 0.0677786  0.84851331]\n"
     ]
    }
   ],
   "source": [
    "A_rand = np.random.rand(10)\n",
    "print(A_rand)"
   ]
  },
  {
   "cell_type": "code",
   "execution_count": 26,
   "metadata": {},
   "outputs": [
    {
     "name": "stdout",
     "output_type": "stream",
     "text": [
      "[ 3.86917375e-01 -3.66736195e-01 -2.96887041e-01  9.53708803e-02\n",
      "  2.81528774e-01  3.20636963e-01 -1.28252614e+00 -9.10769404e-01\n",
      " -1.18328410e+00  6.87716547e-01  1.24116236e+00 -1.11142228e+00\n",
      " -1.09799750e+00 -4.48546605e-01 -1.15370633e+00  1.66121555e+00\n",
      " -2.63968783e-01  1.28011294e+00 -5.69422206e-01  2.85183999e-02\n",
      " -7.51109577e-01 -7.56584066e-01 -5.61975011e-01  1.87460582e-01\n",
      " -8.42579093e-01 -1.29926961e+00 -2.74224535e-01  4.99357334e-02\n",
      "  5.45396904e-01  2.24962763e+00  1.65207199e-01 -1.35484730e+00\n",
      "  7.73836253e-01  2.01925206e+00 -9.63911699e-01 -6.71297565e-01\n",
      " -1.98187315e-01 -1.03840782e+00 -7.42101552e-02 -5.81944571e-01\n",
      "  9.68610339e-03 -1.19369389e+00  1.30003797e+00 -1.42683577e+00\n",
      "  1.87143805e+00  2.07215276e+00  5.11587952e-01 -7.82151824e-01\n",
      " -3.76468673e-05 -4.59328573e-01 -7.44696424e-01  1.42022236e+00\n",
      " -2.50161303e+00  1.39746739e+00  1.79833332e+00 -3.21149503e-01\n",
      " -2.06924797e+00 -5.82047247e-01 -8.78037976e-02  1.65609627e+00\n",
      " -2.83200760e-01  4.58274252e-01 -1.23354182e+00  1.54831450e+00\n",
      "  1.65156402e+00  1.13519989e+00  3.69718538e-01 -2.75928616e+00\n",
      " -5.40260288e-01  2.28759441e-01 -3.55225544e-02  9.43702892e-01\n",
      " -3.70825471e-01  1.20769257e+00  7.14631841e-02 -1.60077820e+00\n",
      "  1.67442545e-01 -1.08123668e+00  1.73836763e+00  1.76932938e+00\n",
      " -3.93002152e-01 -1.72334979e+00  9.25271423e-01 -5.86585385e-01\n",
      "  7.50301677e-01 -1.43328069e+00  8.18444063e-01 -4.84855137e-02\n",
      " -6.25996507e-01  5.06062862e-01 -1.53090155e-01 -1.80522931e+00\n",
      "  5.51587177e-01 -1.58337019e+00  1.13335849e+00  5.26480766e-01\n",
      "  3.29573743e-01  9.46011911e-01  1.01124487e+00  6.94932636e-01\n",
      " -7.34197748e-01  6.34983814e-01  7.52235611e-01  6.97091892e-01\n",
      "  1.40382691e+00  1.63602581e+00  1.47276047e+00  8.52347905e-01\n",
      "  3.53543210e-01 -1.06348508e+00  3.76565657e-01 -5.30810118e-01\n",
      "  7.87839626e-01  8.36685832e-01  6.51903877e-01 -7.10065636e-01\n",
      "  1.21905778e+00 -1.32762984e+00  1.17256764e+00 -1.35266826e+00\n",
      "  1.49647224e+00  6.39305723e-01  3.74113072e-01  5.50101242e-01\n",
      "  1.51753848e+00 -1.89192138e+00  2.33989384e-01  1.73538668e+00\n",
      " -8.69320055e-02 -8.00289098e-01  6.61184329e-01  5.29593567e-01\n",
      " -3.64063797e-02  9.37567082e-01  1.02533137e+00 -5.32763153e-01\n",
      "  9.50431842e-01  8.33593050e-01  1.47147246e+00 -9.55789951e-01\n",
      "  4.20952657e-01 -6.27840202e-01  1.08735710e+00  1.91889923e+00\n",
      "  3.29207928e-01  5.76645198e-01  2.49044815e+00 -1.56985312e-01\n",
      "  1.74690192e+00  1.29211820e+00 -7.64338312e-01  9.99431051e-02\n",
      " -2.71563174e-02  4.40971493e-01 -1.09723794e+00 -1.46746513e+00\n",
      " -1.53592820e+00  6.65341999e-01  7.90558944e-01 -7.96547364e-01\n",
      " -1.91073726e-02 -1.08582418e+00 -5.62428089e-01 -8.29177549e-01\n",
      "  9.52829434e-01 -1.10073268e+00  7.18306798e-02 -7.75839443e-01\n",
      "  8.55910187e-01  8.17910152e-01  5.82178765e-01  4.81177881e-01\n",
      "  1.46365348e+00  8.62662192e-01  9.03748946e-01 -1.89374482e+00\n",
      " -2.55214272e-01 -8.35841144e-01 -1.69831034e-01 -8.91132034e-01\n",
      "  1.60244809e-01 -8.66670001e-01 -1.26670523e+00 -1.36493173e+00\n",
      "  6.96233419e-01 -3.97078414e-01 -1.82399599e-01 -2.32676541e-01\n",
      " -1.18543502e+00 -8.67996854e-01  6.57288793e-01 -1.24329773e-01\n",
      " -3.70609380e-01  9.61255402e-02  1.34090171e+00 -5.01439962e-01\n",
      "  3.48289103e-01 -7.31454816e-01 -1.28590823e+00  2.60453646e+00\n",
      " -1.73688034e+00  1.45874957e-01 -2.15179539e-01  6.33935588e-01\n",
      " -1.96173264e-01 -7.65974888e-02  3.29833359e-01 -7.25464504e-01\n",
      "  1.64985576e+00 -6.43691275e-01 -3.57711042e-01  7.15808788e-01\n",
      "  7.79750884e-01 -1.69106715e+00 -1.38728536e+00 -1.13015002e+00\n",
      " -3.96238955e-01 -1.24399046e+00 -1.83559918e+00  2.51320491e-01\n",
      " -1.02495780e+00 -1.26217140e+00 -3.17174626e-01  8.61549525e-01\n",
      "  2.05202591e+00  3.66092749e-01  3.80580085e-02  1.30131229e+00\n",
      " -4.45258832e-01 -2.45006479e+00 -1.23341290e+00  7.98566249e-01\n",
      "  4.72750672e-01 -3.42323415e-01  1.74714555e-01 -6.14179116e-01\n",
      " -1.76696139e+00 -1.18194685e-01  3.86015396e-01 -6.77883386e-01\n",
      "  1.54982429e+00 -2.39848089e+00 -5.82304514e-01  5.14015456e-01\n",
      " -8.23375595e-02 -7.15866912e-01 -7.30220837e-01  8.08573013e-01\n",
      " -1.50927120e+00  2.77547806e-01 -7.73569380e-01  4.50503570e-01\n",
      " -1.37683107e+00 -1.68945049e-01  8.19713706e-01 -9.67234068e-01\n",
      "  1.01973644e+00 -2.01857311e-01  3.72879793e-01 -4.21882680e-02\n",
      "  3.77813951e-01 -5.00820179e-01  1.61548987e+00 -1.70730975e+00\n",
      " -3.92818904e-01 -4.89157887e-01  8.89627602e-01 -1.46248011e+00\n",
      "  3.25943151e-01 -1.04224428e+00 -1.14725157e+00  1.93964601e-01\n",
      " -5.39121376e-01  8.25270400e-01  9.70220905e-02 -7.64792824e-01\n",
      "  1.17619837e+00 -5.94000609e-01  1.87998929e-01  4.44619230e-01\n",
      " -7.69206024e-01 -6.77507996e-01 -5.96610010e-01 -1.45500896e+00\n",
      "  6.22647243e-01 -4.97733042e-02  1.19733888e+00  1.28379994e+00\n",
      "  7.63606146e-01 -1.97540715e-01 -1.34583507e+00 -5.40076910e-01\n",
      "  1.19888114e+00 -9.06404084e-01  5.43785153e-01  7.06711422e-01\n",
      "  2.56600511e+00  9.07332831e-01 -1.71999749e+00  6.82786233e-01\n",
      " -8.46586846e-01 -1.61547000e+00 -8.41795969e-01 -4.37098983e-01\n",
      "  1.88466141e+00 -8.94079947e-01 -7.40979246e-01  2.45006135e+00\n",
      " -1.48526708e-01  2.50732906e-01  2.05886459e-01 -1.65544787e-02\n",
      " -2.30331514e+00 -7.89245687e-01  1.50676800e+00  4.21745536e-01\n",
      " -6.73726760e-01  7.72041936e-01  1.02598259e-01  1.74310856e+00\n",
      " -1.77233926e+00 -1.98375014e+00  6.18168543e-01 -2.12459488e+00\n",
      " -5.65146816e-01  3.50040958e-01 -1.75536359e-01  2.23151431e+00\n",
      " -4.03787412e-01 -7.75324078e-01 -9.85185510e-01  6.91611182e-01\n",
      " -2.70956943e-01  5.60439796e-01 -1.85270104e+00  1.59713594e+00\n",
      "  3.65773524e-01  1.88253185e+00  2.64236356e-01 -5.36609802e-01\n",
      " -2.19297039e+00 -1.06991160e+00  4.89979561e-01  1.14883262e-01\n",
      " -6.29915858e-01  9.13476265e-01  9.74940158e-01 -4.19136531e-01\n",
      "  1.66994773e-01  5.60434558e-01 -1.17152452e+00 -4.60524933e-01\n",
      "  9.24050236e-01  1.19915980e+00 -1.24190918e-01  1.30830929e-01\n",
      "  1.41227062e+00  3.92703221e-01 -4.47045316e-01 -6.69065136e-01\n",
      "  4.01438139e-01 -4.95812443e-01  1.14454210e+00 -1.22945433e+00\n",
      " -7.06485438e-01 -2.74344458e-01 -7.52499370e-01 -1.15465053e+00\n",
      " -4.55072211e-01 -1.70755090e+00  1.35269241e+00 -1.08798116e-01\n",
      " -5.63704937e-01 -9.76981297e-01  3.35839382e-01  8.77005376e-01\n",
      "  1.06338756e+00  1.52701965e+00  1.16364346e+00 -1.59441086e+00\n",
      " -2.80755569e-01 -1.13306822e+00 -1.69363142e+00 -5.32117073e-01\n",
      " -1.43807006e+00  6.16485761e-01 -2.43524557e-01  5.22830839e-01\n",
      " -3.18701630e-01  9.78104185e-01  1.72120483e+00  9.55445192e-01\n",
      "  1.13983807e+00 -1.53719796e+00  6.93760829e-01 -7.93524696e-01\n",
      "  8.43459140e-01 -9.39920426e-01 -5.50677225e-01 -4.08755166e-01\n",
      "  1.27745501e+00 -5.00840203e-02 -4.65476061e-01  3.03073029e-01\n",
      "  4.78853401e-01 -4.63558245e-01 -1.56994480e-01  8.20782926e-01\n",
      "  9.46095434e-01  1.64277172e+00 -4.32253293e-01  5.84719476e-01\n",
      " -6.85623092e-01  7.79350837e-01 -1.79976704e+00 -1.01898974e-01\n",
      " -1.27429782e-01  7.80202597e-01 -5.74898996e-01 -4.11589374e-01\n",
      "  7.29629522e-01  1.32454338e+00 -1.92953968e+00  7.93691517e-01\n",
      "  6.73998132e-01 -4.16081642e-01 -1.74664614e+00  1.04920292e+00\n",
      "  2.35909988e-01  1.11955880e+00  2.08930786e+00 -2.34969655e-01\n",
      "  9.37163015e-01 -4.96997637e-01  1.83334210e+00 -1.30462232e+00\n",
      "  1.19388298e+00  5.28515136e-01  6.12861786e-01  4.48429661e-01\n",
      " -1.48191264e-01 -3.19135666e-01 -8.54108722e-01 -5.17484974e-01\n",
      "  1.21061036e+00 -8.87286909e-01  1.72048541e-01 -1.55083581e+00\n",
      "  8.30324864e-01  1.59043461e+00 -2.41880545e+00  3.08239887e-02\n",
      "  1.57043516e+00  8.89251311e-01 -1.22883338e+00  1.78185269e+00\n",
      " -2.85808710e-01 -4.91737097e-01  1.05829749e+00  1.89992194e-02\n",
      " -5.69716291e-01  9.40778970e-01  2.55474635e-01  9.92324640e-01\n",
      "  1.29515015e+00 -2.83219242e-01  2.42812782e-02  3.61297369e-02\n",
      "  2.61631774e+00  6.97807301e-01 -1.33562879e+00 -3.26208998e-01\n",
      "  1.17210801e+00 -1.41517046e-02  2.40379651e-02 -4.56874608e-01\n",
      "  2.12256428e-02 -7.66234870e-03 -5.60626939e-01  1.55762914e+00\n",
      " -7.36611728e-01  7.84166115e-01  1.65603274e-01  9.50722626e-01\n",
      " -8.29891383e-01 -3.67818951e-02 -1.56716074e+00  2.98389837e-02\n",
      "  5.28065615e-01  1.58597494e+00  2.91623994e-02  1.16910286e+00\n",
      " -3.89336536e-01 -7.79020512e-01  1.02701160e-01 -1.10408014e+00\n",
      " -9.72867396e-02 -2.44410460e+00  1.21451996e+00  5.72419334e-01\n",
      " -1.69952283e+00 -2.25973274e+00  2.41657595e-01 -8.32003337e-01\n",
      "  7.04923328e-01 -1.53599527e+00  1.27011053e+00  2.82896759e-02\n",
      " -9.56231862e-01 -1.92327280e+00  3.83571167e-01 -9.81420402e-02\n",
      " -5.04623780e-01  1.07726380e+00  1.91214715e+00  1.16512914e+00\n",
      " -5.36320131e-01 -5.96791428e-01 -2.16451927e+00 -1.50195999e+00\n",
      "  1.89830005e+00  1.35515791e+00  1.24953168e+00 -4.69095974e-01\n",
      " -8.25002130e-01  8.25456315e-01 -2.44811374e-01  2.08620148e+00\n",
      " -6.99509235e-01 -3.06655928e-01 -1.33772979e-01  1.44780431e+00\n",
      "  2.10288754e+00 -8.43527577e-01  2.70262259e-01 -4.32796475e-01\n",
      "  2.33701950e-01 -1.34032747e+00 -1.08882373e+00 -9.75101556e-01\n",
      "  9.00961220e-01  2.09797648e+00  1.38311251e+00 -1.67079535e+00\n",
      " -5.12939902e-02 -4.04367782e-01  2.71340429e-01  7.30447827e-01\n",
      "  2.92543442e-02  1.58082864e-02 -1.04860222e+00  9.54092131e-01\n",
      "  1.05612683e+00  1.09729607e-01 -1.84089603e+00  4.12140712e-01\n",
      " -2.22856953e+00 -1.12877174e+00  1.14886541e+00  1.54070583e+00\n",
      "  2.74845497e-01  1.71341469e-01 -7.37707480e-01  1.64170209e+00\n",
      "  3.50921033e-01  8.10105439e-01 -1.06316592e+00  1.99091712e+00\n",
      " -1.73326328e-01  5.94799364e-01  4.46648123e-01  8.25088419e-01\n",
      "  5.68219270e-01 -2.40391398e+00 -1.11159996e-01 -7.75377288e-01\n",
      "  1.14539681e+00  1.46560722e+00  2.90118761e-01  6.99870749e-01\n",
      " -8.98923910e-01  2.63743712e-01 -6.92942925e-01  8.15664360e-01\n",
      "  6.23142873e-01 -1.21856404e+00 -1.06583047e+00 -7.21475375e-01\n",
      " -6.08326937e-01 -9.16245805e-01  7.31898185e-01 -8.17529069e-01\n",
      " -4.15973302e-02  2.87357612e-01  1.37474046e+00  3.07069337e-01\n",
      " -1.73170419e+00 -1.39075084e+00  2.91372060e-01  5.82152001e-01\n",
      "  4.60397548e-01  1.90554972e-01  1.31243977e+00 -7.68944440e-01\n",
      " -1.23925885e+00 -2.01065810e+00  1.63055622e+00 -9.15526145e-01\n",
      " -1.86843255e+00  1.53173647e+00  9.22636878e-01 -5.41095192e-01\n",
      " -2.65111247e-01 -7.76088601e-01 -6.21615084e-01 -5.76584243e-01\n",
      "  5.33701134e-01 -7.16474525e-01 -3.22949621e-01 -5.08111955e-01\n",
      " -4.67743116e-01  4.24778056e-01 -1.90212843e+00 -5.11108363e-01\n",
      "  7.73695042e-01 -7.43557048e-03  1.70343049e+00 -1.99853336e+00\n",
      "  8.53690038e-01  6.15590253e-01 -2.70640434e-01  2.32880174e-01\n",
      " -2.87309844e+00  6.46269825e-01 -7.19469245e-01  7.84312150e-01\n",
      " -2.38553224e+00 -6.19933433e-01  1.42361095e+00 -8.89809643e-01\n",
      "  2.33997614e-01 -2.16970404e+00  9.07049817e-01  4.19612548e-01\n",
      "  5.37124326e-01 -8.72463119e-01 -3.07645334e-02  1.29154467e+00\n",
      "  1.74920271e-01 -1.12444444e+00  1.26221312e+00  7.95366653e-01\n",
      "  2.85392306e-01 -1.25351337e-01  3.91443905e-01  1.17405777e+00\n",
      "  4.42695301e-01 -7.91682919e-01 -1.07447787e+00 -7.73159820e-01\n",
      "  1.59267724e+00  5.71898289e-01  5.87709544e-01  1.07018637e+00\n",
      "  1.98569140e+00 -1.19891131e-01  5.27555862e-01  4.12503658e-01\n",
      "  1.07542857e+00  4.53143792e-01 -3.37301729e-01  2.04004954e+00\n",
      "  2.72102207e-01 -1.59090075e-01  2.03511849e-01 -9.09511566e-01\n",
      " -1.85457855e+00 -7.66107941e-01  6.49419573e-01  7.11773639e-02\n",
      "  7.38741993e-01  1.17635324e+00 -1.14263931e+00 -4.89093161e-01\n",
      "  6.50494579e-02  4.05895749e-01 -7.66369587e-01  1.45600853e+00\n",
      "  2.21616726e-01 -2.93969773e-01  2.11406106e-01  2.95619961e+00\n",
      " -1.32159708e-02 -1.51552042e+00 -4.28147805e-01 -1.66708116e+00\n",
      "  6.70108314e-01 -1.19746595e-01  1.20526546e+00 -6.14468437e-01\n",
      "  2.14489752e-01 -1.09811792e-01  2.38141240e-01  1.54100360e+00\n",
      " -2.34412085e-01 -4.30462199e-01  6.50235801e-01 -1.58738866e-01\n",
      "  2.57408233e-03 -5.76432441e-01 -7.64705958e-04  4.87053657e-01\n",
      " -5.13307301e-01  2.44295201e+00 -1.61346454e+00 -5.25419095e-01\n",
      " -9.23584646e-01  2.70332798e-01  5.80933952e-01 -5.19984754e-01\n",
      " -1.96029479e+00 -2.01204524e-01 -1.77791294e+00 -6.06537551e-01\n",
      "  1.15004974e+00 -1.12738852e+00 -3.47275174e-01  8.18798983e-01\n",
      "  1.17316497e+00 -1.08546379e-02 -1.43364669e-03  1.35984442e+00\n",
      " -4.04626119e-01 -7.02729452e-01 -4.87041367e-01  5.63922763e-01\n",
      "  5.61800989e-01 -6.36703664e-01  1.72037896e+00 -4.33940225e-01\n",
      "  6.96697663e-01  1.86207705e+00  4.47342262e-01 -1.37262347e+00\n",
      "  5.42378974e-02  3.93823463e-01  4.62061038e-01 -2.51283096e-01\n",
      " -4.77025988e-01  6.17653767e-02 -4.91590252e-01  1.03034052e+00\n",
      "  4.78372141e-01  3.73565308e-01 -7.02459721e-01 -4.88358046e-02\n",
      "  1.28259540e+00 -3.20285036e-01  9.20228427e-01  1.96353021e-01\n",
      "  6.85849560e-01  4.93135585e-01  6.11956078e-01 -3.90536370e-01\n",
      " -6.88456305e-01  1.23185073e+00  1.49060933e+00 -5.66011883e-01\n",
      "  1.30256110e+00  1.05788155e+00  2.22387356e-01  1.02347239e+00\n",
      " -9.65920104e-01 -1.32445533e+00  1.06739974e+00 -8.56883337e-01\n",
      "  1.41217298e+00  3.53563757e-01  6.41870693e-01  3.56583567e-01\n",
      " -3.26944661e-01  2.83157621e-01 -7.03255822e-01 -1.66534846e+00\n",
      " -1.96579383e-01 -1.38051342e+00  8.00266434e-01  2.51707321e-01\n",
      "  1.19169884e+00 -6.96023574e-01  6.71895096e-02  2.66316923e-01\n",
      "  1.62262761e+00 -3.67150650e-01  7.45791854e-02  6.56484609e-01\n",
      " -1.67763940e-01 -1.42293733e+00 -1.65680065e-01  6.65414729e-01\n",
      "  4.95549121e-01 -4.49753105e-01  1.88534892e-04  1.45000857e-02\n",
      "  1.14199823e-01  5.19051981e-01 -9.86756826e-01  6.37479548e-01\n",
      " -1.79510744e+00 -1.20849773e+00 -2.48411519e-01 -8.47185273e-01\n",
      "  1.44420246e-01 -1.47592917e+00  4.53180831e-01 -2.32852780e-01\n",
      "  3.36241021e-02  4.15908094e-01 -3.00152434e-02  4.11331065e-01\n",
      "  9.48801914e-01  2.11015234e-01  8.07941428e-01  5.35087291e-01\n",
      "  8.76658603e-02 -1.06196868e-01 -4.47195628e-01 -5.86689328e-01\n",
      "  1.76912554e+00 -6.89111364e-01  1.14656325e+00  1.69096205e+00\n",
      " -1.10202828e+00  1.96597184e+00  2.02767108e-01  8.95618622e-01\n",
      "  2.43170977e+00  7.66451824e-01 -1.41565117e+00 -8.81607189e-02\n",
      " -1.17636080e+00 -7.71711671e-01 -7.17313064e-02 -3.70658736e-01\n",
      " -1.66668342e+00 -2.75241380e-01  2.76561083e-01 -1.05867855e+00\n",
      " -1.78046390e-01  1.88580715e+00 -1.45985735e+00  1.68372639e+00\n",
      "  9.75916921e-02  1.21686256e+00 -1.06292488e+00  7.84007977e-02\n",
      " -4.41082200e-01  1.86805826e-01  7.43878285e-01 -1.31000420e+00\n",
      "  1.60574957e+00 -8.98384764e-01 -2.49522609e-02  1.51760994e-01\n",
      "  9.18690823e-02  5.32300904e-01 -2.04120188e-01  5.13443381e-01\n",
      " -5.29136909e-01 -3.15532678e-01  3.55708644e-01 -1.43308143e+00\n",
      "  1.28031287e-01  1.28263824e+00 -1.59945824e+00 -1.73245549e+00\n",
      " -7.92419299e-01  5.22604007e-01 -1.34972628e+00  1.25187236e+00\n",
      " -4.10839125e-01 -2.47405966e-01  1.85498184e-01 -3.39546324e-01\n",
      "  2.03789779e+00  1.22861742e+00 -1.63896377e+00  3.79279763e-01\n",
      "  1.65209700e-01  2.30046511e-01 -2.30493938e+00 -6.45443214e-01\n",
      " -1.50658624e+00  1.48379144e+00 -5.91519137e-01 -5.01880718e-01\n",
      " -8.61242100e-01  2.26479894e-01 -9.37362229e-01 -3.36821703e-02\n",
      "  5.09101518e-01  1.09654817e+00  3.01929412e-01 -1.55666751e+00\n",
      " -2.48710288e-01  7.72531013e-02 -1.80119749e-01 -1.83494844e-01\n",
      "  1.90308567e+00  1.10881997e-01  3.73621379e-01 -4.33921261e-01\n",
      "  6.76615680e-02  6.08120817e-01  1.57929852e+00 -5.93024200e-01\n",
      "  7.88366660e-01  2.43081876e-01  1.54439296e+00  2.27392824e+00\n",
      " -1.36384603e-01 -1.33685184e-01 -3.52010775e-01  3.96807361e+00\n",
      "  1.29377784e+00 -1.03102170e+00 -9.23387943e-01 -2.08379714e-01\n",
      "  9.38402167e-01  3.54441561e+00  1.75490303e+00 -5.43412930e-02\n",
      " -1.34097825e+00 -2.29091102e+00  1.89440548e-01  4.35251512e-01\n",
      " -1.92421789e-01 -3.58107406e-01 -2.95790991e-01  1.79924012e-01\n",
      " -5.11812687e-01  6.26815953e-01  4.59203543e-01 -1.30465595e+00\n",
      " -3.01128611e-01 -1.43101673e+00 -2.24953746e+00 -3.33876748e-01\n",
      " -2.88842527e-01  1.11965147e+00 -1.51336435e+00  1.02961523e+00\n",
      "  4.48214063e-01 -6.42671359e-01 -1.03217689e-01 -1.15457560e-01\n",
      " -8.68169306e-01  5.30174483e-01  5.69758135e-01  1.31893410e+00\n",
      " -1.40360924e+00  1.06535432e+00 -1.52803709e+00 -9.98592346e-01\n",
      " -6.68409421e-02 -1.00696391e+00 -1.20530591e+00 -2.17411972e+00\n",
      "  1.96746738e-01  6.39342672e-01  5.84101580e-01 -2.29943809e-01\n",
      " -1.13952877e+00  1.08332399e+00  8.14798226e-02  8.44737193e-01\n",
      "  2.96147479e-01 -9.57089276e-01  6.06823591e-01  4.00694222e-01\n",
      " -1.29239520e+00  6.83573128e-01 -4.96915854e-01 -4.09136726e-01\n",
      "  7.71081539e-01 -2.06113226e-01 -1.39991637e+00  5.29462885e-01\n",
      "  1.64731310e-01 -6.46239440e-01  1.41672407e-01 -3.38761309e-01\n",
      "  1.45250994e+00  5.65317479e-01 -1.64664030e-01 -3.65372189e-01\n",
      "  1.49457312e+00 -9.24225862e-01  1.01347295e+00  7.13198393e-01]\n"
     ]
    }
   ],
   "source": [
    "A_randn = np.random.randn(1000)\n",
    "print(A_randn)"
   ]
  },
  {
   "cell_type": "markdown",
   "metadata": {},
   "source": [
    "math functions (methods) associated with a numpy arry"
   ]
  },
  {
   "cell_type": "code",
   "execution_count": 27,
   "metadata": {},
   "outputs": [
    {
     "name": "stdout",
     "output_type": "stream",
     "text": [
      "0.019742769294117935\n"
     ]
    }
   ],
   "source": [
    "m1=A_randn.mean()\n",
    "print(m1)"
   ]
  },
  {
   "cell_type": "code",
   "execution_count": 28,
   "metadata": {},
   "outputs": [
    {
     "name": "stdout",
     "output_type": "stream",
     "text": [
      "1.0218418316904438\n"
     ]
    }
   ],
   "source": [
    "s1=A_randn.std()\n",
    "print(s1)"
   ]
  },
  {
   "cell_type": "markdown",
   "metadata": {},
   "source": [
    "get a list of such methods using the function dir"
   ]
  },
  {
   "cell_type": "code",
   "execution_count": 29,
   "metadata": {},
   "outputs": [
    {
     "data": {
      "text/plain": [
       "['T',\n",
       " '__abs__',\n",
       " '__add__',\n",
       " '__and__',\n",
       " '__array__',\n",
       " '__array_finalize__',\n",
       " '__array_interface__',\n",
       " '__array_prepare__',\n",
       " '__array_priority__',\n",
       " '__array_struct__',\n",
       " '__array_ufunc__',\n",
       " '__array_wrap__',\n",
       " '__bool__',\n",
       " '__class__',\n",
       " '__complex__',\n",
       " '__contains__',\n",
       " '__copy__',\n",
       " '__deepcopy__',\n",
       " '__delattr__',\n",
       " '__delitem__',\n",
       " '__dir__',\n",
       " '__divmod__',\n",
       " '__doc__',\n",
       " '__eq__',\n",
       " '__float__',\n",
       " '__floordiv__',\n",
       " '__format__',\n",
       " '__ge__',\n",
       " '__getattribute__',\n",
       " '__getitem__',\n",
       " '__gt__',\n",
       " '__hash__',\n",
       " '__iadd__',\n",
       " '__iand__',\n",
       " '__ifloordiv__',\n",
       " '__ilshift__',\n",
       " '__imatmul__',\n",
       " '__imod__',\n",
       " '__imul__',\n",
       " '__index__',\n",
       " '__init__',\n",
       " '__init_subclass__',\n",
       " '__int__',\n",
       " '__invert__',\n",
       " '__ior__',\n",
       " '__ipow__',\n",
       " '__irshift__',\n",
       " '__isub__',\n",
       " '__iter__',\n",
       " '__itruediv__',\n",
       " '__ixor__',\n",
       " '__le__',\n",
       " '__len__',\n",
       " '__lshift__',\n",
       " '__lt__',\n",
       " '__matmul__',\n",
       " '__mod__',\n",
       " '__mul__',\n",
       " '__ne__',\n",
       " '__neg__',\n",
       " '__new__',\n",
       " '__or__',\n",
       " '__pos__',\n",
       " '__pow__',\n",
       " '__radd__',\n",
       " '__rand__',\n",
       " '__rdivmod__',\n",
       " '__reduce__',\n",
       " '__reduce_ex__',\n",
       " '__repr__',\n",
       " '__rfloordiv__',\n",
       " '__rlshift__',\n",
       " '__rmatmul__',\n",
       " '__rmod__',\n",
       " '__rmul__',\n",
       " '__ror__',\n",
       " '__rpow__',\n",
       " '__rrshift__',\n",
       " '__rshift__',\n",
       " '__rsub__',\n",
       " '__rtruediv__',\n",
       " '__rxor__',\n",
       " '__setattr__',\n",
       " '__setitem__',\n",
       " '__setstate__',\n",
       " '__sizeof__',\n",
       " '__str__',\n",
       " '__sub__',\n",
       " '__subclasshook__',\n",
       " '__truediv__',\n",
       " '__xor__',\n",
       " 'all',\n",
       " 'any',\n",
       " 'argmax',\n",
       " 'argmin',\n",
       " 'argpartition',\n",
       " 'argsort',\n",
       " 'astype',\n",
       " 'base',\n",
       " 'byteswap',\n",
       " 'choose',\n",
       " 'clip',\n",
       " 'compress',\n",
       " 'conj',\n",
       " 'conjugate',\n",
       " 'copy',\n",
       " 'ctypes',\n",
       " 'cumprod',\n",
       " 'cumsum',\n",
       " 'data',\n",
       " 'diagonal',\n",
       " 'dot',\n",
       " 'dtype',\n",
       " 'dump',\n",
       " 'dumps',\n",
       " 'fill',\n",
       " 'flags',\n",
       " 'flat',\n",
       " 'flatten',\n",
       " 'getfield',\n",
       " 'imag',\n",
       " 'item',\n",
       " 'itemset',\n",
       " 'itemsize',\n",
       " 'max',\n",
       " 'mean',\n",
       " 'min',\n",
       " 'nbytes',\n",
       " 'ndim',\n",
       " 'newbyteorder',\n",
       " 'nonzero',\n",
       " 'partition',\n",
       " 'prod',\n",
       " 'ptp',\n",
       " 'put',\n",
       " 'ravel',\n",
       " 'real',\n",
       " 'repeat',\n",
       " 'reshape',\n",
       " 'resize',\n",
       " 'round',\n",
       " 'searchsorted',\n",
       " 'setfield',\n",
       " 'setflags',\n",
       " 'shape',\n",
       " 'size',\n",
       " 'sort',\n",
       " 'squeeze',\n",
       " 'std',\n",
       " 'strides',\n",
       " 'sum',\n",
       " 'swapaxes',\n",
       " 'take',\n",
       " 'tobytes',\n",
       " 'tofile',\n",
       " 'tolist',\n",
       " 'tostring',\n",
       " 'trace',\n",
       " 'transpose',\n",
       " 'var',\n",
       " 'view']"
      ]
     },
     "execution_count": 29,
     "metadata": {},
     "output_type": "execute_result"
    }
   ],
   "source": [
    "dir(A_randn)"
   ]
  },
  {
   "cell_type": "markdown",
   "metadata": {},
   "source": [
    "more information about the methods can be found at <br> https://docs.scipy.org/doc/numpy/reference/routines.html"
   ]
  },
  {
   "cell_type": "markdown",
   "metadata": {},
   "source": [
    "Go back to slide \"Numerical Data Types in Numpy\""
   ]
  }
 ],
 "metadata": {
  "kernelspec": {
   "display_name": "Python 3",
   "language": "python",
   "name": "python3"
  },
  "language_info": {
   "codemirror_mode": {
    "name": "ipython",
    "version": 3
   },
   "file_extension": ".py",
   "mimetype": "text/x-python",
   "name": "python",
   "nbconvert_exporter": "python",
   "pygments_lexer": "ipython3",
   "version": "3.7.1"
  }
 },
 "nbformat": 4,
 "nbformat_minor": 2
}
